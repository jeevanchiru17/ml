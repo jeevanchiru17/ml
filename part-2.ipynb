{
 "cells": [
  {
   "cell_type": "code",
   "execution_count": 9,
   "metadata": {},
   "outputs": [],
   "source": [
    "from sklearn.decomposition import PCA "
   ]
  },
  {
   "cell_type": "code",
   "execution_count": 10,
   "metadata": {},
   "outputs": [],
   "source": [
    "X = [[2.5, 2.4, 1.8], [0.5, 0.7, 0.3], [2.2, 2.9, 2.1], \n",
    "     [1.9, 2.2, 1.5], [3.1, 3.0, 2.9], [2.3, 2.7, 2.1], \n",
    "     [2, 1.6, 1.3], [1, 1.1, 0.7], [1.5, 1.6, 1.0], \n",
    "     [1.1, 0.9, 0.8]]\n"
   ]
  },
  {
   "cell_type": "code",
   "execution_count": 11,
   "metadata": {},
   "outputs": [],
   "source": [
    "pca = PCA(n_components=2)"
   ]
  },
  {
   "cell_type": "code",
   "execution_count": 12,
   "metadata": {},
   "outputs": [],
   "source": [
    "X_reduced = pca.fit_transform(X)"
   ]
  },
  {
   "cell_type": "code",
   "execution_count": 13,
   "metadata": {},
   "outputs": [
    {
     "name": "stdout",
     "output_type": "stream",
     "text": [
      "Original dataset (3D):\n",
      "[[2.5, 2.4, 1.8], [0.5, 0.7, 0.3], [2.2, 2.9, 2.1], [1.9, 2.2, 1.5], [3.1, 3.0, 2.9], [2.3, 2.7, 2.1], [2, 1.6, 1.3], [1, 1.1, 0.7], [1.5, 1.6, 1.0], [1.1, 0.9, 0.8]]\n",
      "\n",
      "Reduced dataset (2D):\n",
      "[[ 0.88035202 -0.15003459]\n",
      " [-2.11635755  0.13066158]\n",
      " [ 1.18520526  0.38686437]\n",
      " [ 0.25379149  0.14389632]\n",
      " [ 2.20334484 -0.23404868]\n",
      " [ 1.12033258  0.17372536]\n",
      " [-0.16630154 -0.33920613]\n",
      " [-1.36805568  0.0398619 ]\n",
      " [-0.61625171  0.03156475]\n",
      " [-1.3760597  -0.18328487]]\n"
     ]
    }
   ],
   "source": [
    "print(\"Original dataset (3D):\")\n",
    "print(X)\n",
    "print(\"\\nReduced dataset (2D):\")\n",
    "print(X_reduced)\n"
   ]
  }
 ],
 "metadata": {
  "kernelspec": {
   "display_name": "Python 3",
   "language": "python",
   "name": "python3"
  },
  "language_info": {
   "codemirror_mode": {
    "name": "ipython",
    "version": 3
   },
   "file_extension": ".py",
   "mimetype": "text/x-python",
   "name": "python",
   "nbconvert_exporter": "python",
   "pygments_lexer": "ipython3",
   "version": "3.11.9"
  }
 },
 "nbformat": 4,
 "nbformat_minor": 2
}
